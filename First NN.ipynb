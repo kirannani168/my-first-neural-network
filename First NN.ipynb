{
 "cells": [
  {
   "cell_type": "code",
   "execution_count": 3,
   "id": "1ce7f82f",
   "metadata": {},
   "outputs": [],
   "source": [
    "import numpy as np"
   ]
  },
  {
   "cell_type": "code",
   "execution_count": 11,
   "id": "25d053ee",
   "metadata": {},
   "outputs": [],
   "source": [
    "def sigmoid(x):\n",
    "    return 1/(1+np.exp(-x))"
   ]
  },
  {
   "cell_type": "code",
   "execution_count": 15,
   "id": "bf41369e",
   "metadata": {},
   "outputs": [],
   "source": [
    "def sigmoid_derivative(x):\n",
    "    return x*(1-x)"
   ]
  },
  {
   "cell_type": "code",
   "execution_count": 48,
   "id": "fc77172a",
   "metadata": {},
   "outputs": [],
   "source": [
    "training_inputs = np.array([[0,0,1],\n",
    "                           [1,1,1],\n",
    "                           [1,0,1],\n",
    "                           [0,1,1],\n",
    "                           [1,0,0]])\n",
    "training_outputs = np.array([[0,1,1,0,1]]).T"
   ]
  },
  {
   "cell_type": "code",
   "execution_count": 49,
   "id": "a27e65c1",
   "metadata": {},
   "outputs": [],
   "source": [
    "np.random.seed(1)"
   ]
  },
  {
   "cell_type": "code",
   "execution_count": 50,
   "id": "1fb22c91",
   "metadata": {},
   "outputs": [],
   "source": [
    "synaptic_weights = 2*np.random.random((3,1))-1"
   ]
  },
  {
   "cell_type": "code",
   "execution_count": 51,
   "id": "08fdf064",
   "metadata": {},
   "outputs": [
    {
     "name": "stdout",
     "output_type": "stream",
     "text": [
      "RAndom starting synaptic weights are: \n",
      "[[-0.16595599]\n",
      " [ 0.44064899]\n",
      " [-0.99977125]]\n"
     ]
    }
   ],
   "source": [
    "print(\"RAndom starting synaptic weights are: \")\n",
    "print(synaptic_weights)"
   ]
  },
  {
   "cell_type": "code",
   "execution_count": 52,
   "id": "664713c2",
   "metadata": {},
   "outputs": [],
   "source": [
    "for i in range(200000):\n",
    "    input_layer = training_inputs\n",
    "    outputs = sigmoid(np.dot(input_layer, synaptic_weights))\n",
    "    error = training_outputs - outputs\n",
    "    adjustments = error*sigmoid_derivative(outputs)\n",
    "    synaptic_weights+=np.dot(input_layer.T, adjustments)"
   ]
  },
  {
   "cell_type": "code",
   "execution_count": 53,
   "id": "2ca1397d",
   "metadata": {},
   "outputs": [
    {
     "name": "stdout",
     "output_type": "stream",
     "text": [
      "Synaptic weights after ttaining:\n",
      "[[12.70631872]\n",
      " [-0.20392516]\n",
      " [-6.14947977]]\n"
     ]
    }
   ],
   "source": [
    "print(\"Synaptic weights after ttaining:\")\n",
    "print(synaptic_weights)"
   ]
  },
  {
   "cell_type": "code",
   "execution_count": 54,
   "id": "6c0c49b5",
   "metadata": {},
   "outputs": [
    {
     "name": "stdout",
     "output_type": "stream",
     "text": [
      "outputs after training: \n",
      "[[0.00213005]\n",
      " [0.99826136]\n",
      " [0.99858164]\n",
      " [0.00173779]\n",
      " [0.99999697]]\n"
     ]
    }
   ],
   "source": [
    "print(\"outputs after training: \")\n",
    "print(outputs)"
   ]
  },
  {
   "cell_type": "code",
   "execution_count": null,
   "id": "9d9848f6",
   "metadata": {},
   "outputs": [],
   "source": []
  }
 ],
 "metadata": {
  "kernelspec": {
   "display_name": "Python 3 (ipykernel)",
   "language": "python",
   "name": "python3"
  },
  "language_info": {
   "codemirror_mode": {
    "name": "ipython",
    "version": 3
   },
   "file_extension": ".py",
   "mimetype": "text/x-python",
   "name": "python",
   "nbconvert_exporter": "python",
   "pygments_lexer": "ipython3",
   "version": "3.11.0"
  }
 },
 "nbformat": 4,
 "nbformat_minor": 5
}
